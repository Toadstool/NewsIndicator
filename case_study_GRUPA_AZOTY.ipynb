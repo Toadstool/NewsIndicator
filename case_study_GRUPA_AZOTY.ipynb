{
 "cells": [
  {
   "cell_type": "markdown",
   "metadata": {},
   "source": [
    "Wskaźnik newsów - GRUPA AZOTY\n",
    "========================="
   ]
  },
  {
   "cell_type": "markdown",
   "metadata": {},
   "source": [
    "Notowanie\n",
    "---------------"
   ]
  },
  {
   "cell_type": "code",
   "execution_count": 1,
   "metadata": {},
   "outputs": [],
   "source": [
    "import share_price as sp\n",
    "import plot_helper as ph\n",
    "%matplotlib inline\n",
    "data =sp.getLastWeekIntraday('GRUPAAZOTY','20190520','20190525')    \n",
    "                     \n"
   ]
  },
  {
   "cell_type": "markdown",
   "metadata": {},
   "source": [
    "Analiza Twittów\n",
    "----------------------"
   ]
  },
  {
   "cell_type": "code",
   "execution_count": 2,
   "metadata": {},
   "outputs": [
    {
     "name": "stdout",
     "output_type": "stream",
     "text": [
      "==========================================\n",
      "145745 [] 2019-05-23 18:39:25 Rt @ RGwiazdowski : przypomnieć nieśmiało , że właściciel grupa azot I PKN orleń , który być właściciel Anwil być jeden I ten sam skarb P… \n",
      "==========================================\n",
      "379298 [] 2019-05-23 18:16:02 Rt @ RGwiazdowski : przypomnieć nieśmiało , że właściciel grupa azot I PKN orleń , który być właściciel Anwil być jeden I ten sam skarb P… \n",
      "==========================================\n",
      "141767 [] 2019-05-22 12:08:46 @ Piotr_Stepinski @ PKN_ORLEN @ Grupa_Azoty @ RzecznikORLEN pytać do zadawać @ PKN_ORLEN I @ Grupa_Azoty przy każdy okazja : kiedy zastąpić produkcja wodór ż gaz ziemny elektroliza ż użycie energia ż OZE ? \n",
      "==========================================\n",
      "175924 [] 2019-05-22 11:33:20 Rt @ Parkietcom : # ParkietChallenge : w ciąg ostatni piąć sesja akcja 5 spółka ż # WIG30 podrożeć o ponad 6 proca . : @ GrupaLOTOS ( 15,3 proc… \n",
      "==========================================\n",
      "125322 [] 2019-05-22 08:20:44 @ KibicprzezduzeK @ Jinxop myśleć , że orleń , PGE , azot I Asseco być w stanąć wygenerować środek na fajerwerki.. tylko ktoś myślący nie dopuszczać do tęgi . Jak być rywalizacja w liga ? \n",
      "==========================================\n",
      "144259 [] 2019-05-21 11:34:03 Rt @ pwg2019 : 15 maja 1889 rok urodzić siebie Tadeusz Zwisłocki , inżynier chemik , żołnierz legionista , organizator polskie zakłady azotowych… \n",
      "==========================================\n",
      "382884 [] 2019-05-21 09:56:47 Rt @ Greennewspl1 : Idzi nowe w energetyka - już nawet państwowy spółka chcieć korzystać ż zielony energia . # PGE zbudować dla Siarkopol ż @ Gr… \n",
      "==========================================\n",
      "192688 [] 2019-05-20 20:06:33 azot beż Cadenasa . wybrać oferta Ademaru león https : //t.co/1vGtHvL0X9 \n",
      "==========================================\n",
      "577570 [] 2019-05-20 19:21:17 Rt @ wgospodarce : PGE I grupa azot zbudować farma fotowoltaiczny https : //t.co/QdUvEP8FvL \n",
      "==========================================\n",
      "125575 [] 2019-05-20 14:04:07 Rt @ Energetyka_24 : elektrownia fotowoltaiczny o moce 5 MW powstać w 2022 rok na teren pogórniczy kopalny siarka Osiek ( Świętokrzysk… \n"
     ]
    }
   ],
   "source": [
    "from twitt_processing import TwittProcessing\n",
    "from twitter import Twitt\n",
    "twp= TwittProcessing()\n",
    "\n",
    "twp. KeyWords= { 'GRUPAAZOTY':{\n",
    "                    'search': ['azoty'],\n",
    "                    'ignore':['sponsor'],\n",
    "                    'sentiment':{\n",
    "                        'kuluary':-1,\n",
    "                        'dziwny':-1,\n",
    "                        'Rosjanin':-1,\n",
    "                        'rosyjski':-1,                        \n",
    "                        'oskarżyć':-1,\n",
    "                        'lepsza':1,\n",
    "                        'w ciemno':1,\n",
    "                        'wielki dzień':1,\n",
    "                        'kontrakt':1,\n",
    "                        'umowa':1,\n",
    "                        'porozumienie':1,\n",
    "                        'historia':1,\n",
    "                        'pierwszy':1,\n",
    "                        'wpisać':1\n",
    "                        }\n",
    "                    }\n",
    "               }\n",
    "\n",
    "twt =  twp.indicator('GRUPAAZOTY','20190520','20190525')\n",
    "twt_f = list(filter(lambda x: not x.ignore and x.power>1000 and x.sentiment!=0 ,twt))\n",
    "twt_f.sort(key=lambda x: x.power, reverse=True)\n",
    "for t in twt_f:    \n",
    "    print('=========================================================================')\n",
    "    print(str(t.power)+' '+ str(t.sentimentKeys) +' ' +str(t.date)+' ' +str(t.user))\n",
    "    print('-------------------------------------------------------------------------')\n",
    "    print(t.text)\n",
    "    print('-------------------------------------------------------------------------')\n",
    "    print(t.tokens)\n"
   ]
  },
  {
   "cell_type": "markdown",
   "metadata": {},
   "source": [
    "Wykres pokazujacy powiazanie miedzy cenami akcji a sentymentem twittów\n",
    "------------------------------------------------------------------------------------------------------------"
   ]
  },
  {
   "cell_type": "code",
   "execution_count": 3,
   "metadata": {},
   "outputs": [
    {
     "data": {
      "image/png": "[encoded data removed]",
      "text/plain": [
       "<Figure size 1080x360 with 2 Axes>"
      ]
     },
     "metadata": {
      "needs_background": "light"
     },
     "output_type": "display_data"
    }
   ],
   "source": [
    "import plot_helper \n",
    "import datetime\n",
    "\n",
    "twt_w = twt #list(filter(lambda x: not x.ignore and x.power>100000 and x.sentiment!=0 ,twt))\n",
    "plot_helper.plot2(data,twt_w)\n",
    "\n",
    "df = datetime.datetime.strptime('20190524',\"%Y%m%d\")\n",
    "twt_w2 = list(filter(lambda x: x.date >df and  x.power>10000 ,twt))\n",
    "plot_helper.plot2(data,twt_w2)\n",
    "\n",
    "twt_w2.sort(key=lambda x: x.date, reverse=True)\n",
    "for t in twt_w2:    \n",
    "    print('=========================================================================')\n",
    "    print(str(t.power)+' '+ str(t.sentimentKeys) +' ' +str(t.date)+' ' +str(t.user))\n",
    "    print('-------------------------------------------------------------------------')\n",
    "    print(t.text)\n",
    "    print('-------------------------------------------------------------------------')\n",
    "    print(t.tokens)"
   ]
  },
  {
   "cell_type": "code",
   "execution_count": null,
   "metadata": {},
   "outputs": [],
   "source": []
  }
 ],
 "metadata": {
  "kernelspec": {
   "display_name": "Python 3",
   "language": "python",
   "name": "python3"
  },
  "language_info": {
   "codemirror_mode": {
    "name": "ipython",
    "version": 3
   },
   "file_extension": ".py",
   "mimetype": "text/x-python",
   "name": "python",
   "nbconvert_exporter": "python",
   "pygments_lexer": "ipython3",
   "version": "3.6.7"
  }
 },
 "nbformat": 4,
 "nbformat_minor": 2
}
