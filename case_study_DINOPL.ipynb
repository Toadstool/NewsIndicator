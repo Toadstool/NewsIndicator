{
 "cells": [
  {
   "cell_type": "markdown",
   "metadata": {},
   "source": [
    "Wskaźnik newsów - DINOPL\n",
    "========================="
   ]
  },
  {
   "cell_type": "markdown",
   "metadata": {},
   "source": [
    "Notowanie\n",
    "---------------"
   ]
  },
  {
   "cell_type": "code",
   "execution_count": 1,
   "metadata": {},
   "outputs": [],
   "source": [
    "import share_price as sp\n",
    "import plot_helper as ph\n",
    "%matplotlib inline\n",
    "data =sp.getLastWeekIntraday('DINOPL','20190520','20190525')    \n",
    "                     \n"
   ]
  },
  {
   "cell_type": "markdown",
   "metadata": {},
   "source": [
    "Analiza Twittów\n",
    "----------------------"
   ]
  },
  {
   "cell_type": "code",
   "execution_count": 4,
   "metadata": {},
   "outputs": [
    {
     "name": "stdout",
     "output_type": "stream",
     "text": [
      "=========================================================================\n",
      "21531 [] 2019-05-22 11:20:00 PAP Biznes\n",
      "-------------------------------------------------------------------------\n",
      "DZIEŃ NA GPW: Wzrosty indeksów; w WIG20 najwięcej zyskuje Dino Polska\n",
      "https://t.co/DSeKKwvwyr\n",
      "-------------------------------------------------------------------------\n",
      "dzień Na GPW : wzrost indeks ; W WIG20 najwięcej zyskiwać Dina Polska https : //t.co/DSeKKwvwyr \n",
      "=========================================================================\n",
      "11458 [] 2019-05-22 08:07:25 Sebastian Seliga\n",
      "-------------------------------------------------------------------------\n",
      "Analiza techniczna spółki #Dino na 21.05.2019 https://t.co/LpoaOidC6u via @Flynchenbeg #Giełda #GWP #WIG #WIG20 #Polska\n",
      "-------------------------------------------------------------------------\n",
      "analiza techniczny spółka # Dina Na 21.05.2019 https : //t.co/LpoaOidC6u via @ Flynchenbeg # giełda # GWP # wig # WIG20 # Polska \n"
     ]
    }
   ],
   "source": [
    "from twitt_processing import TwittProcessing\n",
    "from twitter import Twitt\n",
    "twp= TwittProcessing()\n",
    "\n",
    "twp. KeyWords= { 'DINOPL':{\n",
    "                    'search': ['Dino Polska'],\n",
    "                    'ignore':['sponsor'],\n",
    "                    'sentiment':{\n",
    "                        'kuluary':-1,\n",
    "                        'zyskać':1,\n",
    "                        'poszerzać':1\n",
    "                        }\n",
    "                }\n",
    "               }\n",
    "\n",
    "twt =  twp.indicator('DINOPL','20190520','20190525')\n",
    "twt_f = list(filter(lambda x: not x.ignore and x.power>1000 and x.sentiment==0 ,twt))\n",
    "twt_f.sort(key=lambda x: x.power, reverse=True)\n",
    "for t in twt_f:    \n",
    "    print('=========================================================================')\n",
    "    print(str(t.power)+' '+ str(t.sentimentKeys) +' ' +str(t.date)+' ' +str(t.user))\n",
    "    print('-------------------------------------------------------------------------')\n",
    "    print(t.text)\n",
    "    print('-------------------------------------------------------------------------')\n",
    "    print(t.tokens)\n"
   ]
  },
  {
   "cell_type": "markdown",
   "metadata": {},
   "source": [
    "Wykres pokazujacy powiazanie miedzy cenami akcji a sentymentem twittów\n",
    "------------------------------------------------------------------------------------------------------------"
   ]
  },
  {
   "cell_type": "code",
   "execution_count": 7,
   "metadata": {},
   "outputs": [
    {
     "data": {
      "image/png": "[encoded data removed]",
      "text/plain": [
       "<Figure size 1080x360 with 2 Axes>"
      ]
     },
     "metadata": {
      "needs_background": "light"
     },
     "output_type": "display_data"
    },
    {
     "name": "stdout",
     "output_type": "stream",
     "text": [
      "=========================================================================\n",
      "21532 ['zyskać'] 2019-05-21 15:48:00 PAP Biznes\n",
      "-------------------------------------------------------------------------\n",
      "DZIEŃ NA GPW: Wzrosty głównych indeksów; w WIG20 najwięcej zyskało Dino Polska\n",
      "https://t.co/VD6WicDVSh\n",
      "-------------------------------------------------------------------------\n",
      "dzień Na GPW : wzrost główny indeks ; W WIG20 najwięcej zyskać Dina Polska https : //t.co/VD6WicDVSh \n",
      "=========================================================================\n",
      "21531 [] 2019-05-22 11:20:00 PAP Biznes\n",
      "-------------------------------------------------------------------------\n",
      "DZIEŃ NA GPW: Wzrosty indeksów; w WIG20 najwięcej zyskuje Dino Polska\n",
      "https://t.co/DSeKKwvwyr\n",
      "-------------------------------------------------------------------------\n",
      "dzień Na GPW : wzrost indeks ; W WIG20 najwięcej zyskiwać Dina Polska https : //t.co/DSeKKwvwyr \n",
      "=========================================================================\n",
      "21531 ['zyskać'] 2019-05-21 15:46:00 PAP Biznes\n",
      "-------------------------------------------------------------------------\n",
      "DZIEŃ NA GPW: Wzrosty głównych indeksów; w WIG20 najwięcej zyskało Dino Polska\n",
      "https://t.co/rsYOX8AiDv\n",
      "-------------------------------------------------------------------------\n",
      "dzień Na GPW : wzrost główny indeks ; W WIG20 najwięcej zyskać Dina Polska https : //t.co/rsYOX8AiDv \n",
      "=========================================================================\n",
      "19839 ['poszerzać'] 2019-05-24 10:42:04 Jarosław\n",
      "-------------------------------------------------------------------------\n",
      "Bez paniki.\n",
      "Oni @Lidl_Polska i @BiedronkaOffic nie wykończą.\n",
      "Dino też będzie stabilnie poszerzało ilość placówek handlowych.\n",
      "CZY @wPrawopl NIE PASUJE @wolny_rynek❓ https://t.co/rW1vMqE91C\n",
      "-------------------------------------------------------------------------\n",
      "beż panika . on @ Lidl_Polska i @ BiedronkaOffic nie wykończyć . Dina też być stabilny poszerzać ilość placówka handlowy . czy @ wPrawopl nie pasować @ wolny_rynek❓ https : //t.co/rW1vMqE91C \n",
      "=========================================================================\n",
      "11458 [] 2019-05-22 08:07:25 Sebastian Seliga\n",
      "-------------------------------------------------------------------------\n",
      "Analiza techniczna spółki #Dino na 21.05.2019 https://t.co/LpoaOidC6u via @Flynchenbeg #Giełda #GWP #WIG #WIG20 #Polska\n",
      "-------------------------------------------------------------------------\n",
      "analiza techniczny spółka # Dina Na 21.05.2019 https : //t.co/LpoaOidC6u via @ Flynchenbeg # giełda # GWP # wig # WIG20 # Polska \n",
      "=========================================================================\n",
      "5916 ['zyskać'] 2019-05-21 15:49:19 Artur Gaweł\n",
      "-------------------------------------------------------------------------\n",
      "RT @PAPBiznes: DZIEŃ NA GPW: Wzrosty głównych indeksów; w WIG20 najwięcej zyskało Dino Polska\n",
      "https://t.co/VD6WicDVSh\n",
      "-------------------------------------------------------------------------\n",
      "Rt @ PAPBiznes : dzień Na GPW : wzrost główny indeks ; W WIG20 najwięcej zyskać Dina Polska https : //t.co/VD6WicDVSh \n"
     ]
    }
   ],
   "source": [
    "import plot_helper \n",
    "import datetime\n",
    "\n",
    "twt_w = twt #list(filter(lambda x: not x.ignore and x.power>100000 and x.sentiment!=0 ,twt))\n",
    "plot_helper.plot2(data,twt_w)\n",
    "\n",
    "\n",
    "twt_w2 = list(filter(lambda x: x.power>1000 ,twt))\n",
    "\n",
    "twt_w2.sort(key=lambda x: x.power, reverse=True)\n",
    "for t in twt_w2:    \n",
    "    print('=========================================================================')\n",
    "    print(str(t.power)+' '+ str(t.sentimentKeys) +' ' +str(t.date)+' ' +str(t.user))\n",
    "    print('-------------------------------------------------------------------------')\n",
    "    print(t.text)\n",
    "    print('-------------------------------------------------------------------------')\n",
    "    print(t.tokens)"
   ]
  },
  {
   "cell_type": "code",
   "execution_count": null,
   "metadata": {},
   "outputs": [],
   "source": []
  }
 ],
 "metadata": {
  "kernelspec": {
   "display_name": "Python 3",
   "language": "python",
   "name": "python3"
  },
  "language_info": {
   "codemirror_mode": {
    "name": "ipython",
    "version": 3
   },
   "file_extension": ".py",
   "mimetype": "text/x-python",
   "name": "python",
   "nbconvert_exporter": "python",
   "pygments_lexer": "ipython3",
   "version": "3.6.7"
  }
 },
 "nbformat": 4,
 "nbformat_minor": 2
}
